{
  "nbformat": 4,
  "nbformat_minor": 0,
  "metadata": {
    "colab": {
      "provenance": [],
      "authorship_tag": "ABX9TyMNvMm6fvhOS4ULqZ03AkQO",
      "include_colab_link": true
    },
    "kernelspec": {
      "name": "python3",
      "display_name": "Python 3"
    },
    "language_info": {
      "name": "python"
    }
  },
  "cells": [
    {
      "cell_type": "markdown",
      "metadata": {
        "id": "view-in-github",
        "colab_type": "text"
      },
      "source": [
        "<a href=\"https://colab.research.google.com/github/rumeysaBakar/langGraph_RAG/blob/main/Lang_graph_RAG3.ipynb\" target=\"_parent\"><img src=\"https://colab.research.google.com/assets/colab-badge.svg\" alt=\"Open In Colab\"/></a>"
      ]
    },
    {
      "cell_type": "code",
      "execution_count": 1,
      "metadata": {
        "colab": {
          "base_uri": "https://localhost:8080/"
        },
        "id": "LANvK7jpql2_",
        "outputId": "bcf4bbaf-52aa-4e36-dfbd-96ea8a6049bf"
      },
      "outputs": [
        {
          "output_type": "stream",
          "name": "stdout",
          "text": [
            "\u001b[?25l   \u001b[90m━━━━━━━━━━━━━━━━━━━━━━━━━━━━━━━━━━━━━━━━\u001b[0m \u001b[32m0.0/50.7 kB\u001b[0m \u001b[31m?\u001b[0m eta \u001b[36m-:--:--\u001b[0m\r\u001b[2K   \u001b[90m━━━━━━━━━━━━━━━━━━━━━━━━━━━━━━━━━━━━━━━━\u001b[0m \u001b[32m50.7/50.7 kB\u001b[0m \u001b[31m1.8 MB/s\u001b[0m eta \u001b[36m0:00:00\u001b[0m\n",
            "\u001b[?25h\u001b[?25l   \u001b[90m━━━━━━━━━━━━━━━━━━━━━━━━━━━━━━━━━━━━━━━━\u001b[0m \u001b[32m0.0/134.7 kB\u001b[0m \u001b[31m?\u001b[0m eta \u001b[36m-:--:--\u001b[0m\r\u001b[2K   \u001b[90m━━━━━━━━━━━━━━━━━━━━━━━━━━━━━━━━━━━━━━━━\u001b[0m \u001b[32m134.7/134.7 kB\u001b[0m \u001b[31m5.9 MB/s\u001b[0m eta \u001b[36m0:00:00\u001b[0m\n",
            "\u001b[?25h\u001b[?25l   \u001b[90m━━━━━━━━━━━━━━━━━━━━━━━━━━━━━━━━━━━━━━━━\u001b[0m \u001b[32m0.0/244.8 kB\u001b[0m \u001b[31m?\u001b[0m eta \u001b[36m-:--:--\u001b[0m\r\u001b[2K   \u001b[90m━━━━━━━━━━━━━━━━━━━━━━━━━━━━━━━━━━━━━━━━\u001b[0m \u001b[32m244.8/244.8 kB\u001b[0m \u001b[31m11.7 MB/s\u001b[0m eta \u001b[36m0:00:00\u001b[0m\n",
            "\u001b[2K   \u001b[90m━━━━━━━━━━━━━━━━━━━━━━━━━━━━━━━━━━━━━━━━\u001b[0m \u001b[32m1.2/1.2 MB\u001b[0m \u001b[31m30.1 MB/s\u001b[0m eta \u001b[36m0:00:00\u001b[0m\n",
            "\u001b[2K   \u001b[90m━━━━━━━━━━━━━━━━━━━━━━━━━━━━━━━━━━━━━━━━\u001b[0m \u001b[32m410.6/410.6 kB\u001b[0m \u001b[31m18.4 MB/s\u001b[0m eta \u001b[36m0:00:00\u001b[0m\n",
            "\u001b[2K   \u001b[90m━━━━━━━━━━━━━━━━━━━━━━━━━━━━━━━━━━━━━━━━\u001b[0m \u001b[32m389.9/389.9 kB\u001b[0m \u001b[31m12.7 MB/s\u001b[0m eta \u001b[36m0:00:00\u001b[0m\n",
            "\u001b[2K   \u001b[90m━━━━━━━━━━━━━━━━━━━━━━━━━━━━━━━━━━━━━━━━\u001b[0m \u001b[32m85.4/85.4 kB\u001b[0m \u001b[31m5.8 MB/s\u001b[0m eta \u001b[36m0:00:00\u001b[0m\n",
            "\u001b[2K   \u001b[90m━━━━━━━━━━━━━━━━━━━━━━━━━━━━━━━━━━━━━━━━\u001b[0m \u001b[32m1.2/1.2 MB\u001b[0m \u001b[31m32.4 MB/s\u001b[0m eta \u001b[36m0:00:00\u001b[0m\n",
            "\u001b[?25h"
          ]
        }
      ],
      "source": [
        "!pip install -q langchain langchain-openai langchain-pinecone langgraph pinecone-client\n"
      ]
    },
    {
      "cell_type": "code",
      "source": [
        "import os\n",
        "from typing import TypedDict, Annotated, Union\n",
        "from langchain_core.agents import AgentAction, AgentFinish\n",
        "from langchain_core.tools import tool\n",
        "from langchain.agents import create_openai_tools_agent\n",
        "from langchain_openai import ChatOpenAI, OpenAIEmbeddings\n",
        "from langchain_pinecone import PineconeVectorStore\n",
        "from pinecone import Pinecone, PodSpec\n",
        "from langgraph.graph import StateGraph, END\n",
        "import operator\n",
        "import json"
      ],
      "metadata": {
        "id": "ucZQbH8IquHC"
      },
      "execution_count": 3,
      "outputs": []
    },
    {
      "cell_type": "code",
      "source": [
        "OPENAI_API_KEY = \"your api key" #@param {type:\"string\"}\n",
        "PINECONE_API_KEY = \"your api key" #@param {type:\"string\"}\n",
        "\n",
        "os.environ[\"OPENAI_API_KEY\"] = OPENAI_API_KEY\n",
        "os.environ[\"PINECONE_API_KEY\"] = PINECONE_API_KEY\n"
      ],
      "metadata": {
        "id": "OOVXEEgwq9Sb"
      },
      "execution_count": 4,
      "outputs": []
    },
    {
      "cell_type": "code",
      "source": [
        "pc = Pinecone(api_key=PINECONE_API_KEY) # pincone başlatma\n",
        "\n",
        "# index oluştırma\n",
        "if \"langraph-rag\" not in pc.list_indexes().names():\n",
        "    pc.create_index(\n",
        "        name=\"langraph-rag\",\n",
        "        dimension=1536,\n",
        "        metric=\"cosine\",\n",
        "        spec=PodSpec(environment=\"gcp-starter\")\n",
        "    )\n",
        "\n",
        "# vektör başlat\n",
        "embeddings = OpenAIEmbeddings()\n",
        "vectorstore = PineconeVectorStore(\n",
        "    index_name=\"langraph-rag\",\n",
        "    embedding=embeddings\n",
        ")\n"
      ],
      "metadata": {
        "id": "shV_vXmtrL-M"
      },
      "execution_count": 6,
      "outputs": []
    },
    {
      "cell_type": "code",
      "source": [
        "class AgentState(TypedDict):\n",
        "    input: str\n",
        "    agent_out: Union[AgentAction, AgentFinish, None]\n",
        "    intermediate_steps: Annotated[list[tuple[AgentAction, str]], operator.add]\n",
        "\n",
        "@tool(\"search\")\n",
        "def search_tool(query: str):\n",
        "    \"\"\"searches for information in the pincone vector store\"\"\"\n",
        "    results = vectorstore.similarity_search(query, k=1)\n",
        "    return results[0].page_content if results else \"no relevant information found\"\n",
        "\n",
        "@tool(\"final_answer\")\n",
        "def final_answer_tool(answer: str, source: str):\n",
        "    \"\"\"returns a formatted response with answer and source\"\"\"\n",
        "    return \"\""
      ],
      "metadata": {
        "id": "0shim74xsB5L"
      },
      "execution_count": 7,
      "outputs": []
    },
    {
      "cell_type": "code",
      "source": [
        "from langchain_core.prompts import ChatPromptTemplate, MessagesPlaceholder\n",
        "\n",
        "prompt = ChatPromptTemplate.from_messages([\n",
        "    (\"system\", \"ai assistant. use the provided tools to help answer the uses questions\"),\n",
        "    MessagesPlaceholder(variable_name=\"chat_history\"),\n",
        "    (\"human\", \"{input}\"),\n",
        "    MessagesPlaceholder(variable_name=\"agent_scratchpad\")\n",
        "])\n",
        "\n",
        "llm = ChatOpenAI(temperature=0)\n",
        "agent = create_openai_tools_agent(\n",
        "    llm=llm,\n",
        "    tools=[search_tool, final_answer_tool],\n",
        "    prompt=prompt\n",
        ")"
      ],
      "metadata": {
        "id": "j0QIeRGcsFKA"
      },
      "execution_count": 11,
      "outputs": []
    },
    {
      "cell_type": "code",
      "source": [
        "def run_query_agent(state: dict):\n",
        "    agent_out = agent.invoke(state)\n",
        "    return {\"agent_out\": agent_out}\n",
        "\n",
        "def execute_search(state: dict):\n",
        "    action = state[\"agent_out\"]\n",
        "    tool_call = action[-1].message_log[-1].additional_kwargs[\"tool_calls\"][-1]\n",
        "    search_result = search_tool.invoke(\n",
        "        json.loads(tool_call[\"function\"][\"arguments\"])\n",
        "    )\n",
        "    return {\"intermediate_steps\": [{\"search\": str(search_result)}]}\n",
        "\n",
        "def router(state: dict):\n",
        "    if isinstance(state[\"agent_out\"], list):\n",
        "        return state[\"agent_out\"][-1].tool\n",
        "    return \"error\"\n",
        "\n",
        "final_answer_llm = llm.bind_tools([final_answer_tool], tool_choice=\"final_answer\")\n",
        "\n",
        "def rag_final_answer(state: dict):\n",
        "    query = state[\"input\"]\n",
        "    context = state[\"intermediate_steps\"][-1]\n",
        "    prompt = f\"\"\"asnswer the question using the provided context.\n",
        "\n",
        "    Context: {context}\n",
        "    Question: {query}\n",
        "    \"\"\"\n",
        "    out = final_answer_llm.invoke(prompt)\n",
        "    return {\"agent_out\": out.additional_kwargs[\"tool_calls\"][-1][\"function\"][\"arguments\"]}\n",
        "\n",
        "def handle_error(state: dict):\n",
        "    query = state[\"input\"]\n",
        "    prompt = f\"answer this question: {query}\"\n",
        "    out = final_answer_llm.invoke(prompt)\n",
        "    return {\"agent_out\": out.additional_kwargs[\"tool_calls\"][-1][\"function\"][\"arguments\"]}"
      ],
      "metadata": {
        "id": "xEQDrw3RskFr"
      },
      "execution_count": 12,
      "outputs": []
    },
    {
      "cell_type": "code",
      "source": [
        "def create_rag_graph():\n",
        "    graph = StateGraph(AgentState)\n",
        "\n",
        "    # nodes\n",
        "    graph.add_node(\"query_agent\", run_query_agent)\n",
        "    graph.add_node(\"search\", execute_search)\n",
        "    graph.add_node(\"error\", handle_error)\n",
        "    graph.add_node(\"rag_final_answer\", rag_final_answer)\n",
        "\n",
        "    # entry point\n",
        "    graph.set_entry_point(\"query_agent\")\n",
        "\n",
        "    # edges\n",
        "    graph.add_conditional_edges(\n",
        "        \"query_agent\",\n",
        "        router,\n",
        "        {\n",
        "            \"search\": \"search\",\n",
        "            \"error\": \"error\",\n",
        "            \"final_answer\": END\n",
        "        }\n",
        "    )\n",
        "    graph.add_edge(\"search\", \"rag_final_answer\")\n",
        "    graph.add_edge(\"error\", END)\n",
        "    graph.add_edge(\"rag_final_answer\", END)\n",
        "\n",
        "    return graph.compile()"
      ],
      "metadata": {
        "id": "dkyIfxRssrAx"
      },
      "execution_count": 13,
      "outputs": []
    },
    {
      "cell_type": "code",
      "source": [
        "!apt-get install -y python3-dev graphviz libgraphviz-dev pkg-config\n",
        "!pip install pygraphviz"
      ],
      "metadata": {
        "colab": {
          "base_uri": "https://localhost:8080/"
        },
        "id": "aClIVaHXtnwu",
        "outputId": "c70405dd-52b9-4934-e759-17b56063f079"
      },
      "execution_count": 20,
      "outputs": [
        {
          "output_type": "stream",
          "name": "stdout",
          "text": [
            "Reading package lists... Done\n",
            "Building dependency tree... Done\n",
            "Reading state information... Done\n",
            "python3-dev is already the newest version (3.10.6-1~22.04.1).\n",
            "python3-dev set to manually installed.\n",
            "graphviz is already the newest version (2.42.2-6ubuntu0.1).\n",
            "The following packages were automatically installed and are no longer required:\n",
            "  libbz2-dev libpkgconf3 libreadline-dev\n",
            "Use 'apt autoremove' to remove them.\n",
            "The following additional packages will be installed:\n",
            "  libgail-common libgail18 libgtk2.0-0 libgtk2.0-bin libgtk2.0-common libgvc6-plugins-gtk\n",
            "  librsvg2-common libxdot4\n",
            "Suggested packages:\n",
            "  gvfs\n",
            "The following packages will be REMOVED:\n",
            "  pkgconf r-base-dev\n",
            "The following NEW packages will be installed:\n",
            "  libgail-common libgail18 libgraphviz-dev libgtk2.0-0 libgtk2.0-bin libgtk2.0-common\n",
            "  libgvc6-plugins-gtk librsvg2-common libxdot4 pkg-config\n",
            "0 upgraded, 10 newly installed, 2 to remove and 49 not upgraded.\n",
            "Need to get 2,482 kB of archives.\n",
            "After this operation, 7,670 kB of additional disk space will be used.\n",
            "Get:1 http://archive.ubuntu.com/ubuntu jammy/main amd64 pkg-config amd64 0.29.2-1ubuntu3 [48.2 kB]\n",
            "Get:2 http://archive.ubuntu.com/ubuntu jammy-updates/main amd64 libgtk2.0-common all 2.24.33-2ubuntu2.1 [125 kB]\n",
            "Get:3 http://archive.ubuntu.com/ubuntu jammy-updates/main amd64 libgtk2.0-0 amd64 2.24.33-2ubuntu2.1 [2,038 kB]\n",
            "Get:4 http://archive.ubuntu.com/ubuntu jammy-updates/main amd64 libgail18 amd64 2.24.33-2ubuntu2.1 [15.9 kB]\n",
            "Get:5 http://archive.ubuntu.com/ubuntu jammy-updates/main amd64 libgail-common amd64 2.24.33-2ubuntu2.1 [132 kB]\n",
            "Get:6 http://archive.ubuntu.com/ubuntu jammy-updates/universe amd64 libxdot4 amd64 2.42.2-6ubuntu0.1 [16.4 kB]\n",
            "Get:7 http://archive.ubuntu.com/ubuntu jammy-updates/universe amd64 libgvc6-plugins-gtk amd64 2.42.2-6ubuntu0.1 [22.5 kB]\n",
            "Get:8 http://archive.ubuntu.com/ubuntu jammy-updates/universe amd64 libgraphviz-dev amd64 2.42.2-6ubuntu0.1 [58.5 kB]\n",
            "Get:9 http://archive.ubuntu.com/ubuntu jammy-updates/main amd64 libgtk2.0-bin amd64 2.24.33-2ubuntu2.1 [7,936 B]\n",
            "Get:10 http://archive.ubuntu.com/ubuntu jammy-updates/main amd64 librsvg2-common amd64 2.52.5+dfsg-3ubuntu0.2 [17.7 kB]\n",
            "Fetched 2,482 kB in 1s (2,363 kB/s)\n",
            "(Reading database ... 123632 files and directories currently installed.)\n",
            "Removing r-base-dev (4.4.2-1.2204.0) ...\n",
            "dpkg: pkgconf: dependency problems, but removing anyway as you requested:\n",
            " libsndfile1-dev:amd64 depends on pkg-config; however:\n",
            "  Package pkg-config is not installed.\n",
            "  Package pkgconf which provides pkg-config is to be removed.\n",
            " libopencv-dev depends on pkg-config; however:\n",
            "  Package pkg-config is not installed.\n",
            "  Package pkgconf which provides pkg-config is to be removed.\n",
            " libmkl-dev:amd64 depends on pkg-config; however:\n",
            "  Package pkg-config is not installed.\n",
            "  Package pkgconf which provides pkg-config is to be removed.\n",
            " libjack-dev depends on pkg-config; however:\n",
            "  Package pkg-config is not installed.\n",
            "  Package pkgconf which provides pkg-config is to be removed.\n",
            " libgphoto2-dev:amd64 depends on pkg-config; however:\n",
            "  Package pkg-config is not installed.\n",
            "  Package pkgconf which provides pkg-config is to be removed.\n",
            " libfontconfig-dev:amd64 depends on pkg-config; however:\n",
            "  Package pkg-config is not installed.\n",
            "  Package pkgconf which provides pkg-config is to be removed.\n",
            "\n",
            "Removing pkgconf (1.8.0-1) ...\n",
            "Removing 'diversion of /usr/bin/pkg-config to /usr/bin/pkg-config.real by pkgconf'\n",
            "Removing 'diversion of /usr/share/aclocal/pkg.m4 to /usr/share/aclocal/pkg.real.m4 by pkgconf'\n",
            "Removing 'diversion of /usr/share/man/man1/pkg-config.1.gz to /usr/share/man/man1/pkg-config.real.1.gz by pkgconf'\n",
            "Removing 'diversion of /usr/share/pkg-config-crosswrapper to /usr/share/pkg-config-crosswrapper.real by pkgconf'\n",
            "Selecting previously unselected package pkg-config.\n",
            "(Reading database ... 123608 files and directories currently installed.)\n",
            "Preparing to unpack .../0-pkg-config_0.29.2-1ubuntu3_amd64.deb ...\n",
            "Unpacking pkg-config (0.29.2-1ubuntu3) ...\n",
            "Selecting previously unselected package libgtk2.0-common.\n",
            "Preparing to unpack .../1-libgtk2.0-common_2.24.33-2ubuntu2.1_all.deb ...\n",
            "Unpacking libgtk2.0-common (2.24.33-2ubuntu2.1) ...\n",
            "Selecting previously unselected package libgtk2.0-0:amd64.\n",
            "Preparing to unpack .../2-libgtk2.0-0_2.24.33-2ubuntu2.1_amd64.deb ...\n",
            "Unpacking libgtk2.0-0:amd64 (2.24.33-2ubuntu2.1) ...\n",
            "Selecting previously unselected package libgail18:amd64.\n",
            "Preparing to unpack .../3-libgail18_2.24.33-2ubuntu2.1_amd64.deb ...\n",
            "Unpacking libgail18:amd64 (2.24.33-2ubuntu2.1) ...\n",
            "Selecting previously unselected package libgail-common:amd64.\n",
            "Preparing to unpack .../4-libgail-common_2.24.33-2ubuntu2.1_amd64.deb ...\n",
            "Unpacking libgail-common:amd64 (2.24.33-2ubuntu2.1) ...\n",
            "Selecting previously unselected package libxdot4:amd64.\n",
            "Preparing to unpack .../5-libxdot4_2.42.2-6ubuntu0.1_amd64.deb ...\n",
            "Unpacking libxdot4:amd64 (2.42.2-6ubuntu0.1) ...\n",
            "Selecting previously unselected package libgvc6-plugins-gtk.\n",
            "Preparing to unpack .../6-libgvc6-plugins-gtk_2.42.2-6ubuntu0.1_amd64.deb ...\n",
            "Unpacking libgvc6-plugins-gtk (2.42.2-6ubuntu0.1) ...\n",
            "Selecting previously unselected package libgraphviz-dev:amd64.\n",
            "Preparing to unpack .../7-libgraphviz-dev_2.42.2-6ubuntu0.1_amd64.deb ...\n",
            "Unpacking libgraphviz-dev:amd64 (2.42.2-6ubuntu0.1) ...\n",
            "Selecting previously unselected package libgtk2.0-bin.\n",
            "Preparing to unpack .../8-libgtk2.0-bin_2.24.33-2ubuntu2.1_amd64.deb ...\n",
            "Unpacking libgtk2.0-bin (2.24.33-2ubuntu2.1) ...\n",
            "Selecting previously unselected package librsvg2-common:amd64.\n",
            "Preparing to unpack .../9-librsvg2-common_2.52.5+dfsg-3ubuntu0.2_amd64.deb ...\n",
            "Unpacking librsvg2-common:amd64 (2.52.5+dfsg-3ubuntu0.2) ...\n",
            "Setting up libxdot4:amd64 (2.42.2-6ubuntu0.1) ...\n",
            "Setting up pkg-config (0.29.2-1ubuntu3) ...\n",
            "Setting up librsvg2-common:amd64 (2.52.5+dfsg-3ubuntu0.2) ...\n",
            "Setting up libgtk2.0-common (2.24.33-2ubuntu2.1) ...\n",
            "Setting up libgtk2.0-0:amd64 (2.24.33-2ubuntu2.1) ...\n",
            "Setting up libgvc6-plugins-gtk (2.42.2-6ubuntu0.1) ...\n",
            "Setting up libgail18:amd64 (2.24.33-2ubuntu2.1) ...\n",
            "Setting up libgtk2.0-bin (2.24.33-2ubuntu2.1) ...\n",
            "Setting up libgail-common:amd64 (2.24.33-2ubuntu2.1) ...\n",
            "Setting up libgraphviz-dev:amd64 (2.42.2-6ubuntu0.1) ...\n",
            "Processing triggers for libc-bin (2.35-0ubuntu3.4) ...\n",
            "/sbin/ldconfig.real: /usr/local/lib/libtbbbind_2_0.so.3 is not a symbolic link\n",
            "\n",
            "/sbin/ldconfig.real: /usr/local/lib/libtcm_debug.so.1 is not a symbolic link\n",
            "\n",
            "/sbin/ldconfig.real: /usr/local/lib/libtcm.so.1 is not a symbolic link\n",
            "\n",
            "/sbin/ldconfig.real: /usr/local/lib/libumf.so.0 is not a symbolic link\n",
            "\n",
            "/sbin/ldconfig.real: /usr/local/lib/libtbb.so.12 is not a symbolic link\n",
            "\n",
            "/sbin/ldconfig.real: /usr/local/lib/libur_adapter_opencl.so.0 is not a symbolic link\n",
            "\n",
            "/sbin/ldconfig.real: /usr/local/lib/libtbbmalloc.so.2 is not a symbolic link\n",
            "\n",
            "/sbin/ldconfig.real: /usr/local/lib/libur_loader.so.0 is not a symbolic link\n",
            "\n",
            "/sbin/ldconfig.real: /usr/local/lib/libtbbbind.so.3 is not a symbolic link\n",
            "\n",
            "/sbin/ldconfig.real: /usr/local/lib/libtbbmalloc_proxy.so.2 is not a symbolic link\n",
            "\n",
            "/sbin/ldconfig.real: /usr/local/lib/libhwloc.so.15 is not a symbolic link\n",
            "\n",
            "/sbin/ldconfig.real: /usr/local/lib/libtbbbind_2_5.so.3 is not a symbolic link\n",
            "\n",
            "/sbin/ldconfig.real: /usr/local/lib/libur_adapter_level_zero.so.0 is not a symbolic link\n",
            "\n",
            "Processing triggers for man-db (2.10.2-1) ...\n",
            "Processing triggers for libgdk-pixbuf-2.0-0:amd64 (2.42.8+dfsg-1ubuntu0.3) ...\n",
            "Collecting pygraphviz\n",
            "  Downloading pygraphviz-1.14.tar.gz (106 kB)\n",
            "\u001b[2K     \u001b[90m━━━━━━━━━━━━━━━━━━━━━━━━━━━━━━━━━━━━━━━━\u001b[0m \u001b[32m106.0/106.0 kB\u001b[0m \u001b[31m2.7 MB/s\u001b[0m eta \u001b[36m0:00:00\u001b[0m\n",
            "\u001b[?25h  Installing build dependencies ... \u001b[?25l\u001b[?25hdone\n",
            "  Getting requirements to build wheel ... \u001b[?25l\u001b[?25hdone\n",
            "  Preparing metadata (pyproject.toml) ... \u001b[?25l\u001b[?25hdone\n",
            "Building wheels for collected packages: pygraphviz\n",
            "  Building wheel for pygraphviz (pyproject.toml) ... \u001b[?25l\u001b[?25hdone\n",
            "  Created wheel for pygraphviz: filename=pygraphviz-1.14-cp310-cp310-linux_x86_64.whl size=168636 sha256=68efeb07a10037ff6ab5b1cfc1f6c427143e8e6e2a31d72609ba3793f56701ff\n",
            "  Stored in directory: /root/.cache/pip/wheels/61/ab/cd/e24a22c32830b8b4948c8887d8714d399f0f806f206a034698\n",
            "Successfully built pygraphviz\n",
            "Installing collected packages: pygraphviz\n",
            "Successfully installed pygraphviz-1.14\n"
          ]
        }
      ]
    },
    {
      "cell_type": "code",
      "source": [
        "from IPython.display import Image\n",
        "graph = create_rag_graph()\n",
        "Image(graph.get_graph().draw_png())"
      ],
      "metadata": {
        "colab": {
          "base_uri": "https://localhost:8080/",
          "height": 704
        },
        "id": "nWdZFvsYt482",
        "outputId": "bf99dd4d-f542-4258-c6d8-f00e24d4f02e"
      },
      "execution_count": 21,
      "outputs": [
        {
          "output_type": "execute_result",
          "data": {
            "image/png": "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\n",
            "text/plain": [
              "<IPython.core.display.Image object>"
            ]
          },
          "metadata": {},
          "execution_count": 21
        }
      ]
    },
    {
      "cell_type": "code",
      "source": [
        "def query_rag_system(question: str):\n",
        "    graph = create_rag_graph()\n",
        "    result = graph.invoke({\n",
        "        \"input\": question,\n",
        "        \"chat_history\": []\n",
        "    })\n",
        "    return json.loads(result[\"agent_out\"])"
      ],
      "metadata": {
        "id": "e0JmgvySsw5a"
      },
      "execution_count": 22,
      "outputs": []
    },
    {
      "cell_type": "code",
      "source": [
        "# @title vektöre doc ekle\n",
        "# @markdown doc text and source\n",
        "document_text = \"\" #@param {type:\"string\"}\n",
        "source = \"\" #@param {type:\"string\"}\n",
        "\n",
        "from langchain_core.documents import Document\n",
        "\n",
        "if document_text and source:\n",
        "    doc = Document(page_content=document_text, metadata={\"source\": source})\n",
        "    vectorstore.add_documents([doc])\n",
        "    print(\"Document added successfully!\")"
      ],
      "metadata": {
        "id": "mJbwhnpTs1Pt"
      },
      "execution_count": 18,
      "outputs": []
    },
    {
      "cell_type": "code",
      "source": [
        "# @title query the RAG system\n",
        "question = \"\" #@param {type:\"string\"}\n",
        "\n",
        "if question:\n",
        "    response = query_rag_system(question)\n",
        "    print(\"Answer:\", response[\"answer\"])\n",
        "    print(\"\\nSource:\", response[\"source\"])"
      ],
      "metadata": {
        "id": "fiLBxDWUs_VR"
      },
      "execution_count": 19,
      "outputs": []
    }
  ]
}
